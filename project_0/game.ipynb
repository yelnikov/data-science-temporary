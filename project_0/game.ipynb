{
 "cells": [
  {
   "cell_type": "markdown",
   "metadata": {},
   "source": [
    "# Game \"Guess the number less than 20 attepts\"\n",
    "The files are imported below and the function for calculating the average number of guesses is called."
   ]
  },
  {
   "cell_type": "code",
   "execution_count": 1,
   "metadata": {},
   "outputs": [
    {
     "name": "stdout",
     "output_type": "stream",
     "text": [
      "Your algorithm guesses the number in an average of 6 attempt(s).\n"
     ]
    },
    {
     "data": {
      "text/plain": [
       "6"
      ]
     },
     "execution_count": 1,
     "metadata": {},
     "output_type": "execute_result"
    }
   ],
   "source": [
    "from game_v2 import score_game\n",
    "from game_v2 import random_predict\n",
    "\n",
    "score_game(random_predict)"
   ]
  },
  {
   "cell_type": "markdown",
   "metadata": {},
   "source": [
    "## Code of the game"
   ]
  },
  {
   "cell_type": "code",
   "execution_count": null,
   "metadata": {},
   "outputs": [
    {
     "name": "stdout",
     "output_type": "stream",
     "text": [
      "Your algorithm guesses the number in an average of 6 attempt(s).\n"
     ]
    }
   ],
   "source": [
    "import numpy as np\n",
    "\n",
    "def random_predict(number: int = np.random.randint(1, 101)) -> int: \n",
    "    \"\"\"ПК угадывает случайное число от 1 до 101, затрачивая не более 20 попыток.\n",
    "    \n",
    "     Args:\n",
    "        number (int, optional): Загаданное число. По умолчанию 1.\n",
    "        \n",
    "    Returns:\n",
    "        int: Число попыток\n",
    "    \"\"\"\n",
    "    count = 0\n",
    "    min = 0 \n",
    "    max = 101\n",
    "    predict_number = np.random.randint(1, 101) # prospective number\n",
    "    \n",
    "    while True: \n",
    "        count += 1 \n",
    "        \n",
    "        if predict_number > number: \n",
    "            max = predict_number - 1\n",
    "            predict_number = (max + min) // 2\n",
    "            \n",
    "        elif predict_number < number:\n",
    "            min = predict_number + 1 \n",
    "            predict_number = (max + min) // 2\n",
    "            \n",
    "        else: \n",
    "            break\n",
    "        \n",
    "    return count\n",
    "    #print(f'Количество попыток: {random_predict(number)}')\n",
    "    \n",
    "def score_game(random_predict) -> int: \n",
    "    \"\"\"For how many attempts on average out of 1000 approaches does our algorithm guess.\n",
    "        За сколько в попыток ПК отгадает число в среднем.\n",
    "\n",
    "    Args:\n",
    "        random_predict (_type_): guess the number\n",
    "\n",
    "    Returns:\n",
    "        int: integer, average number of attempts\n",
    "    \"\"\"\n",
    "    count_list = [] # list for save the number of attempts\n",
    "    #np.random.seed(1) # fix the seed for reproducibility\n",
    "    random_array = np.random.randint(1, 101, size=(1000)) # made a list of numbers\n",
    "    \n",
    "    for number in random_array: \n",
    "        count_list.append(random_predict(number))\n",
    "    \n",
    "    score = int(np.mean(count_list)) # find the average number of attempts\n",
    "    \n",
    "    print(f'Your algorithm guesses the number in an average of {score} attempt(s).')\n",
    "    #return score\n",
    "\n",
    "score_game(random_predict)"
   ]
  }
 ],
 "metadata": {
  "kernelspec": {
   "display_name": "Python 3.10.5 64-bit",
   "language": "python",
   "name": "python3"
  },
  "language_info": {
   "codemirror_mode": {
    "name": "ipython",
    "version": 3
   },
   "file_extension": ".py",
   "mimetype": "text/x-python",
   "name": "python",
   "nbconvert_exporter": "python",
   "pygments_lexer": "ipython3",
   "version": "3.10.5"
  },
  "orig_nbformat": 4,
  "vscode": {
   "interpreter": {
    "hash": "52634da84371cba311ea128a5ea7cdc41ff074b781779e754b270ff9f8153cee"
   }
  }
 },
 "nbformat": 4,
 "nbformat_minor": 2
}
